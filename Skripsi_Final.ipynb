{
 "cells": [
  {
   "cell_type": "markdown",
   "id": "8b277d98",
   "metadata": {},
   "source": [
    "### Import Library & Set Random Seed"
   ]
  },
  {
   "cell_type": "code",
   "execution_count": 1,
   "id": "7b3904ab",
   "metadata": {},
   "outputs": [
    {
     "name": "stdout",
     "output_type": "stream",
     "text": [
      "Requirement already satisfied: plotly in c:\\users\\anne\\appdata\\local\\programs\\python\\python310\\lib\\site-packages (5.9.0)\n",
      "Requirement already satisfied: tenacity>=6.2.0 in c:\\users\\anne\\appdata\\local\\programs\\python\\python310\\lib\\site-packages (from plotly) (8.0.1)\n",
      "\n",
      "[notice] A new release of pip available: 22.1.2 -> 22.2\n",
      "[notice] To update, run: python.exe -m pip install --upgrade pip\n",
      "Requirement already satisfied: nbformat in c:\\users\\anne\\appdata\\local\\programs\\python\\python310\\lib\\site-packages (5.4.0)\n",
      "Requirement already satisfied: jupyter-core in c:\\users\\anne\\appdata\\local\\programs\\python\\python310\\lib\\site-packages (from nbformat) (4.9.2)\n",
      "Requirement already satisfied: jsonschema>=2.6 in c:\\users\\anne\\appdata\\local\\programs\\python\\python310\\lib\\site-packages (from nbformat) (4.4.0)\n",
      "Requirement already satisfied: traitlets>=5.1 in c:\\users\\anne\\appdata\\local\\programs\\python\\python310\\lib\\site-packages (from nbformat) (5.1.1)\n",
      "Requirement already satisfied: fastjsonschema in c:\\users\\anne\\appdata\\local\\programs\\python\\python310\\lib\\site-packages (from nbformat) (2.15.3)\n",
      "Requirement already satisfied: pyrsistent!=0.17.0,!=0.17.1,!=0.17.2,>=0.14.0 in c:\\users\\anne\\appdata\\local\\programs\\python\\python310\\lib\\site-packages (from jsonschema>=2.6->nbformat) (0.18.1)\n",
      "Requirement already satisfied: attrs>=17.4.0 in c:\\users\\anne\\appdata\\local\\programs\\python\\python310\\lib\\site-packages (from jsonschema>=2.6->nbformat) (21.4.0)\n",
      "Requirement already satisfied: pywin32>=1.0 in c:\\users\\anne\\appdata\\local\\programs\\python\\python310\\lib\\site-packages (from jupyter-core->nbformat) (303)\n",
      "\n",
      "[notice] A new release of pip available: 22.1.2 -> 22.2\n",
      "[notice] To update, run: python.exe -m pip install --upgrade pip\n",
      "Requirement already satisfied: nltk in c:\\users\\anne\\appdata\\local\\programs\\python\\python310\\lib\\site-packages (3.7)\n",
      "Requirement already satisfied: tqdm in c:\\users\\anne\\appdata\\local\\programs\\python\\python310\\lib\\site-packages (from nltk) (4.62.3)\n",
      "Requirement already satisfied: joblib in c:\\users\\anne\\appdata\\local\\programs\\python\\python310\\lib\\site-packages (from nltk) (1.1.0)\n",
      "Requirement already satisfied: regex>=2021.8.3 in c:\\users\\anne\\appdata\\local\\programs\\python\\python310\\lib\\site-packages (from nltk) (2022.1.18)\n",
      "Requirement already satisfied: click in c:\\users\\anne\\appdata\\local\\programs\\python\\python310\\lib\\site-packages (from nltk) (8.0.4)\n",
      "Requirement already satisfied: colorama in c:\\users\\anne\\appdata\\local\\programs\\python\\python310\\lib\\site-packages (from click->nltk) (0.4.4)\n",
      "\n",
      "[notice] A new release of pip available: 22.1.2 -> 22.2\n",
      "[notice] To update, run: python.exe -m pip install --upgrade pip\n",
      "\n",
      "[notice] A new release of pip available: 22.1.2 -> 22.2\n",
      "[notice] To update, run: python.exe -m pip install --upgrade pip\n"
     ]
    },
    {
     "name": "stderr",
     "output_type": "stream",
     "text": [
      "ERROR: Invalid requirement: '#'\n"
     ]
    },
    {
     "name": "stdout",
     "output_type": "stream",
     "text": [
      "Requirement already satisfied: WordCloud in c:\\users\\anne\\appdata\\local\\programs\\python\\python310\\lib\\site-packages (1.8.2.2)\n",
      "Requirement already satisfied: numpy>=1.6.1 in c:\\users\\anne\\appdata\\local\\programs\\python\\python310\\lib\\site-packages (from WordCloud) (1.22.2)\n",
      "Requirement already satisfied: matplotlib in c:\\users\\anne\\appdata\\local\\programs\\python\\python310\\lib\\site-packages (from WordCloud) (3.5.2)\n",
      "Requirement already satisfied: pillow in c:\\users\\anne\\appdata\\local\\programs\\python\\python310\\lib\\site-packages (from WordCloud) (9.1.1)\n",
      "Requirement already satisfied: kiwisolver>=1.0.1 in c:\\users\\anne\\appdata\\local\\programs\\python\\python310\\lib\\site-packages (from matplotlib->WordCloud) (1.4.3)\n",
      "Requirement already satisfied: pyparsing>=2.2.1 in c:\\users\\anne\\appdata\\local\\programs\\python\\python310\\lib\\site-packages (from matplotlib->WordCloud) (3.0.7)\n",
      "Requirement already satisfied: packaging>=20.0 in c:\\users\\anne\\appdata\\local\\programs\\python\\python310\\lib\\site-packages (from matplotlib->WordCloud) (21.3)\n",
      "Requirement already satisfied: python-dateutil>=2.7 in c:\\users\\anne\\appdata\\local\\programs\\python\\python310\\lib\\site-packages (from matplotlib->WordCloud) (2.8.2)\n",
      "Requirement already satisfied: fonttools>=4.22.0 in c:\\users\\anne\\appdata\\local\\programs\\python\\python310\\lib\\site-packages (from matplotlib->WordCloud) (4.33.3)\n",
      "Requirement already satisfied: cycler>=0.10 in c:\\users\\anne\\appdata\\local\\programs\\python\\python310\\lib\\site-packages (from matplotlib->WordCloud) (0.11.0)\n",
      "Requirement already satisfied: six>=1.5 in c:\\users\\anne\\appdata\\local\\programs\\python\\python310\\lib\\site-packages (from python-dateutil>=2.7->matplotlib->WordCloud) (1.16.0)\n",
      "\n",
      "[notice] A new release of pip available: 22.1.2 -> 22.2\n",
      "[notice] To update, run: python.exe -m pip install --upgrade pip\n"
     ]
    },
    {
     "name": "stderr",
     "output_type": "stream",
     "text": [
      "ERROR: Invalid requirement: '#'\n"
     ]
    },
    {
     "name": "stdout",
     "output_type": "stream",
     "text": [
      "\n",
      "[notice] A new release of pip available: 22.1.2 -> 22.2\n",
      "[notice] To update, run: python.exe -m pip install --upgrade pip\n",
      "Requirement already satisfied: Sastrawi in c:\\users\\anne\\appdata\\local\\programs\\python\\python310\\lib\\site-packages (1.0.1)\n",
      "\n",
      "[notice] A new release of pip available: 22.1.2 -> 22.2\n",
      "[notice] To update, run: python.exe -m pip install --upgrade pip\n",
      "Requirement already satisfied: swifter in c:\\users\\anne\\appdata\\local\\programs\\python\\python310\\lib\\site-packages (1.1.2)\n",
      "Requirement already satisfied: pandas>=1.0.0 in c:\\users\\anne\\appdata\\local\\programs\\python\\python310\\lib\\site-packages (from swifter) (1.4.1)\n",
      "Requirement already satisfied: psutil>=5.6.6 in c:\\users\\anne\\appdata\\local\\programs\\python\\python310\\lib\\site-packages (from swifter) (5.9.0)\n",
      "Requirement already satisfied: dask[dataframe]>=2.10.0 in c:\\users\\anne\\appdata\\local\\programs\\python\\python310\\lib\\site-packages (from swifter) (2022.2.0)\n",
      "Requirement already satisfied: tqdm>=4.33.0 in c:\\users\\anne\\appdata\\local\\programs\\python\\python310\\lib\\site-packages (from swifter) (4.62.3)\n",
      "Requirement already satisfied: ipywidgets>=7.0.0 in c:\\users\\anne\\appdata\\local\\programs\\python\\python310\\lib\\site-packages (from swifter) (7.6.5)\n",
      "Requirement already satisfied: cloudpickle>=0.2.2 in c:\\users\\anne\\appdata\\local\\programs\\python\\python310\\lib\\site-packages (from swifter) (2.0.0)\n",
      "Requirement already satisfied: parso>0.4.0 in c:\\users\\anne\\appdata\\local\\programs\\python\\python310\\lib\\site-packages (from swifter) (0.8.3)\n",
      "Requirement already satisfied: bleach>=3.1.1 in c:\\users\\anne\\appdata\\local\\programs\\python\\python310\\lib\\site-packages (from swifter) (4.1.0)\n",
      "Requirement already satisfied: packaging in c:\\users\\anne\\appdata\\local\\programs\\python\\python310\\lib\\site-packages (from bleach>=3.1.1->swifter) (21.3)\n",
      "Requirement already satisfied: six>=1.9.0 in c:\\users\\anne\\appdata\\local\\programs\\python\\python310\\lib\\site-packages (from bleach>=3.1.1->swifter) (1.16.0)\n",
      "Requirement already satisfied: webencodings in c:\\users\\anne\\appdata\\local\\programs\\python\\python310\\lib\\site-packages (from bleach>=3.1.1->swifter) (0.5.1)\n",
      "Requirement already satisfied: partd>=0.3.10 in c:\\users\\anne\\appdata\\local\\programs\\python\\python310\\lib\\site-packages (from dask[dataframe]>=2.10.0->swifter) (1.2.0)\n",
      "Requirement already satisfied: fsspec>=0.6.0 in c:\\users\\anne\\appdata\\local\\programs\\python\\python310\\lib\\site-packages (from dask[dataframe]>=2.10.0->swifter) (2022.2.0)\n",
      "Requirement already satisfied: toolz>=0.8.2 in c:\\users\\anne\\appdata\\local\\programs\\python\\python310\\lib\\site-packages (from dask[dataframe]>=2.10.0->swifter) (0.11.2)\n",
      "Requirement already satisfied: pyyaml>=5.3.1 in c:\\users\\anne\\appdata\\local\\programs\\python\\python310\\lib\\site-packages (from dask[dataframe]>=2.10.0->swifter) (6.0)\n",
      "Requirement already satisfied: numpy>=1.18 in c:\\users\\anne\\appdata\\local\\programs\\python\\python310\\lib\\site-packages (from dask[dataframe]>=2.10.0->swifter) (1.22.2)\n",
      "Requirement already satisfied: widgetsnbextension~=3.5.0 in c:\\users\\anne\\appdata\\local\\programs\\python\\python310\\lib\\site-packages (from ipywidgets>=7.0.0->swifter) (3.5.2)\n",
      "Requirement already satisfied: traitlets>=4.3.1 in c:\\users\\anne\\appdata\\local\\programs\\python\\python310\\lib\\site-packages (from ipywidgets>=7.0.0->swifter) (5.1.1)\n",
      "Requirement already satisfied: jupyterlab-widgets>=1.0.0 in c:\\users\\anne\\appdata\\local\\programs\\python\\python310\\lib\\site-packages (from ipywidgets>=7.0.0->swifter) (1.0.2)\n",
      "Requirement already satisfied: ipython-genutils~=0.2.0 in c:\\users\\anne\\appdata\\local\\programs\\python\\python310\\lib\\site-packages (from ipywidgets>=7.0.0->swifter) (0.2.0)\n",
      "Requirement already satisfied: ipython>=4.0.0 in c:\\users\\anne\\appdata\\local\\programs\\python\\python310\\lib\\site-packages (from ipywidgets>=7.0.0->swifter) (8.0.1)\n",
      "Requirement already satisfied: nbformat>=4.2.0 in c:\\users\\anne\\appdata\\local\\programs\\python\\python310\\lib\\site-packages (from ipywidgets>=7.0.0->swifter) (5.4.0)\n",
      "Requirement already satisfied: ipykernel>=4.5.1 in c:\\users\\anne\\appdata\\local\\programs\\python\\python310\\lib\\site-packages (from ipywidgets>=7.0.0->swifter) (6.9.1)\n",
      "Requirement already satisfied: pytz>=2020.1 in c:\\users\\anne\\appdata\\local\\programs\\python\\python310\\lib\\site-packages (from pandas>=1.0.0->swifter) (2021.3)\n",
      "Requirement already satisfied: python-dateutil>=2.8.1 in c:\\users\\anne\\appdata\\local\\programs\\python\\python310\\lib\\site-packages (from pandas>=1.0.0->swifter) (2.8.2)\n",
      "Requirement already satisfied: colorama in c:\\users\\anne\\appdata\\local\\programs\\python\\python310\\lib\\site-packages (from tqdm>=4.33.0->swifter) (0.4.4)\n",
      "Requirement already satisfied: nest-asyncio in c:\\users\\anne\\appdata\\local\\programs\\python\\python310\\lib\\site-packages (from ipykernel>=4.5.1->ipywidgets>=7.0.0->swifter) (1.5.4)\n",
      "Requirement already satisfied: matplotlib-inline<0.2.0,>=0.1.0 in c:\\users\\anne\\appdata\\local\\programs\\python\\python310\\lib\\site-packages (from ipykernel>=4.5.1->ipywidgets>=7.0.0->swifter) (0.1.3)\n",
      "Requirement already satisfied: debugpy<2.0,>=1.0.0 in c:\\users\\anne\\appdata\\local\\programs\\python\\python310\\lib\\site-packages (from ipykernel>=4.5.1->ipywidgets>=7.0.0->swifter) (1.5.1)\n",
      "Requirement already satisfied: tornado<7.0,>=4.2 in c:\\users\\anne\\appdata\\local\\programs\\python\\python310\\lib\\site-packages (from ipykernel>=4.5.1->ipywidgets>=7.0.0->swifter) (6.1)\n",
      "Requirement already satisfied: jupyter-client<8.0 in c:\\users\\anne\\appdata\\local\\programs\\python\\python310\\lib\\site-packages (from ipykernel>=4.5.1->ipywidgets>=7.0.0->swifter) (7.1.2)\n",
      "Requirement already satisfied: black in c:\\users\\anne\\appdata\\local\\programs\\python\\python310\\lib\\site-packages (from ipython>=4.0.0->ipywidgets>=7.0.0->swifter) (22.1.0)\n",
      "Requirement already satisfied: decorator in c:\\users\\anne\\appdata\\local\\programs\\python\\python310\\lib\\site-packages (from ipython>=4.0.0->ipywidgets>=7.0.0->swifter) (5.1.1)\n",
      "Requirement already satisfied: jedi>=0.16 in c:\\users\\anne\\appdata\\local\\programs\\python\\python310\\lib\\site-packages (from ipython>=4.0.0->ipywidgets>=7.0.0->swifter) (0.18.1)\n",
      "Requirement already satisfied: pickleshare in c:\\users\\anne\\appdata\\local\\programs\\python\\python310\\lib\\site-packages (from ipython>=4.0.0->ipywidgets>=7.0.0->swifter) (0.7.5)\n",
      "Requirement already satisfied: backcall in c:\\users\\anne\\appdata\\local\\programs\\python\\python310\\lib\\site-packages (from ipython>=4.0.0->ipywidgets>=7.0.0->swifter) (0.2.0)\n",
      "Requirement already satisfied: prompt-toolkit!=3.0.0,!=3.0.1,<3.1.0,>=2.0.0 in c:\\users\\anne\\appdata\\local\\programs\\python\\python310\\lib\\site-packages (from ipython>=4.0.0->ipywidgets>=7.0.0->swifter) (3.0.28)\n",
      "Requirement already satisfied: stack-data in c:\\users\\anne\\appdata\\local\\programs\\python\\python310\\lib\\site-packages (from ipython>=4.0.0->ipywidgets>=7.0.0->swifter) (0.2.0)\n",
      "Requirement already satisfied: pygments in c:\\users\\anne\\appdata\\local\\programs\\python\\python310\\lib\\site-packages (from ipython>=4.0.0->ipywidgets>=7.0.0->swifter) (2.11.2)\n",
      "Requirement already satisfied: setuptools>=18.5 in c:\\users\\anne\\appdata\\local\\programs\\python\\python310\\lib\\site-packages (from ipython>=4.0.0->ipywidgets>=7.0.0->swifter) (58.1.0)\n",
      "Requirement already satisfied: jupyter-core in c:\\users\\anne\\appdata\\local\\programs\\python\\python310\\lib\\site-packages (from nbformat>=4.2.0->ipywidgets>=7.0.0->swifter) (4.9.2)\n",
      "Requirement already satisfied: jsonschema>=2.6 in c:\\users\\anne\\appdata\\local\\programs\\python\\python310\\lib\\site-packages (from nbformat>=4.2.0->ipywidgets>=7.0.0->swifter) (4.4.0)\n",
      "Requirement already satisfied: fastjsonschema in c:\\users\\anne\\appdata\\local\\programs\\python\\python310\\lib\\site-packages (from nbformat>=4.2.0->ipywidgets>=7.0.0->swifter) (2.15.3)\n",
      "Requirement already satisfied: pyparsing!=3.0.5,>=2.0.2 in c:\\users\\anne\\appdata\\local\\programs\\python\\python310\\lib\\site-packages (from packaging->bleach>=3.1.1->swifter) (3.0.7)\n",
      "Requirement already satisfied: locket in c:\\users\\anne\\appdata\\local\\programs\\python\\python310\\lib\\site-packages (from partd>=0.3.10->dask[dataframe]>=2.10.0->swifter) (0.2.1)\n",
      "Requirement already satisfied: notebook>=4.4.1 in c:\\users\\anne\\appdata\\local\\programs\\python\\python310\\lib\\site-packages (from widgetsnbextension~=3.5.0->ipywidgets>=7.0.0->swifter) (6.4.8)\n",
      "Requirement already satisfied: pyrsistent!=0.17.0,!=0.17.1,!=0.17.2,>=0.14.0 in c:\\users\\anne\\appdata\\local\\programs\\python\\python310\\lib\\site-packages (from jsonschema>=2.6->nbformat>=4.2.0->ipywidgets>=7.0.0->swifter) (0.18.1)\n",
      "Requirement already satisfied: attrs>=17.4.0 in c:\\users\\anne\\appdata\\local\\programs\\python\\python310\\lib\\site-packages (from jsonschema>=2.6->nbformat>=4.2.0->ipywidgets>=7.0.0->swifter) (21.4.0)\n",
      "Requirement already satisfied: entrypoints in c:\\users\\anne\\appdata\\local\\programs\\python\\python310\\lib\\site-packages (from jupyter-client<8.0->ipykernel>=4.5.1->ipywidgets>=7.0.0->swifter) (0.4)\n",
      "Requirement already satisfied: pyzmq>=13 in c:\\users\\anne\\appdata\\local\\programs\\python\\python310\\lib\\site-packages (from jupyter-client<8.0->ipykernel>=4.5.1->ipywidgets>=7.0.0->swifter) (22.3.0)\n",
      "Requirement already satisfied: pywin32>=1.0 in c:\\users\\anne\\appdata\\local\\programs\\python\\python310\\lib\\site-packages (from jupyter-core->nbformat>=4.2.0->ipywidgets>=7.0.0->swifter) (303)\n",
      "Requirement already satisfied: nbconvert in c:\\users\\anne\\appdata\\local\\programs\\python\\python310\\lib\\site-packages (from notebook>=4.4.1->widgetsnbextension~=3.5.0->ipywidgets>=7.0.0->swifter) (6.4.2)\n",
      "Requirement already satisfied: argon2-cffi in c:\\users\\anne\\appdata\\local\\programs\\python\\python310\\lib\\site-packages (from notebook>=4.4.1->widgetsnbextension~=3.5.0->ipywidgets>=7.0.0->swifter) (21.3.0)\n",
      "Requirement already satisfied: terminado>=0.8.3 in c:\\users\\anne\\appdata\\local\\programs\\python\\python310\\lib\\site-packages (from notebook>=4.4.1->widgetsnbextension~=3.5.0->ipywidgets>=7.0.0->swifter) (0.13.1)\n",
      "Requirement already satisfied: jinja2 in c:\\users\\anne\\appdata\\local\\programs\\python\\python310\\lib\\site-packages (from notebook>=4.4.1->widgetsnbextension~=3.5.0->ipywidgets>=7.0.0->swifter) (3.0.3)\n",
      "Requirement already satisfied: Send2Trash>=1.8.0 in c:\\users\\anne\\appdata\\local\\programs\\python\\python310\\lib\\site-packages (from notebook>=4.4.1->widgetsnbextension~=3.5.0->ipywidgets>=7.0.0->swifter) (1.8.0)\n",
      "Requirement already satisfied: prometheus-client in c:\\users\\anne\\appdata\\local\\programs\\python\\python310\\lib\\site-packages (from notebook>=4.4.1->widgetsnbextension~=3.5.0->ipywidgets>=7.0.0->swifter) (0.13.1)\n",
      "Requirement already satisfied: wcwidth in c:\\users\\anne\\appdata\\local\\programs\\python\\python310\\lib\\site-packages (from prompt-toolkit!=3.0.0,!=3.0.1,<3.1.0,>=2.0.0->ipython>=4.0.0->ipywidgets>=7.0.0->swifter) (0.2.5)\n",
      "Requirement already satisfied: platformdirs>=2 in c:\\users\\anne\\appdata\\local\\programs\\python\\python310\\lib\\site-packages (from black->ipython>=4.0.0->ipywidgets>=7.0.0->swifter) (2.5.1)\n",
      "Requirement already satisfied: pathspec>=0.9.0 in c:\\users\\anne\\appdata\\local\\programs\\python\\python310\\lib\\site-packages (from black->ipython>=4.0.0->ipywidgets>=7.0.0->swifter) (0.9.0)\n",
      "Requirement already satisfied: tomli>=1.1.0 in c:\\users\\anne\\appdata\\local\\programs\\python\\python310\\lib\\site-packages (from black->ipython>=4.0.0->ipywidgets>=7.0.0->swifter) (2.0.1)\n",
      "Requirement already satisfied: click>=8.0.0 in c:\\users\\anne\\appdata\\local\\programs\\python\\python310\\lib\\site-packages (from black->ipython>=4.0.0->ipywidgets>=7.0.0->swifter) (8.0.4)\n",
      "Requirement already satisfied: mypy-extensions>=0.4.3 in c:\\users\\anne\\appdata\\local\\programs\\python\\python310\\lib\\site-packages (from black->ipython>=4.0.0->ipywidgets>=7.0.0->swifter) (0.4.3)\n",
      "Requirement already satisfied: asttokens in c:\\users\\anne\\appdata\\local\\programs\\python\\python310\\lib\\site-packages (from stack-data->ipython>=4.0.0->ipywidgets>=7.0.0->swifter) (2.0.5)\n",
      "Requirement already satisfied: executing in c:\\users\\anne\\appdata\\local\\programs\\python\\python310\\lib\\site-packages (from stack-data->ipython>=4.0.0->ipywidgets>=7.0.0->swifter) (0.8.2)\n",
      "Requirement already satisfied: pure-eval in c:\\users\\anne\\appdata\\local\\programs\\python\\python310\\lib\\site-packages (from stack-data->ipython>=4.0.0->ipywidgets>=7.0.0->swifter) (0.2.2)\n",
      "Requirement already satisfied: pywinpty>=1.1.0 in c:\\users\\anne\\appdata\\local\\programs\\python\\python310\\lib\\site-packages (from terminado>=0.8.3->notebook>=4.4.1->widgetsnbextension~=3.5.0->ipywidgets>=7.0.0->swifter) (2.0.2)\n",
      "Requirement already satisfied: argon2-cffi-bindings in c:\\users\\anne\\appdata\\local\\programs\\python\\python310\\lib\\site-packages (from argon2-cffi->notebook>=4.4.1->widgetsnbextension~=3.5.0->ipywidgets>=7.0.0->swifter) (21.2.0)\n",
      "Requirement already satisfied: MarkupSafe>=2.0 in c:\\users\\anne\\appdata\\local\\programs\\python\\python310\\lib\\site-packages (from jinja2->notebook>=4.4.1->widgetsnbextension~=3.5.0->ipywidgets>=7.0.0->swifter) (2.1.0)\n",
      "Requirement already satisfied: defusedxml in c:\\users\\anne\\appdata\\local\\programs\\python\\python310\\lib\\site-packages (from nbconvert->notebook>=4.4.1->widgetsnbextension~=3.5.0->ipywidgets>=7.0.0->swifter) (0.7.1)\n",
      "Requirement already satisfied: testpath in c:\\users\\anne\\appdata\\local\\programs\\python\\python310\\lib\\site-packages (from nbconvert->notebook>=4.4.1->widgetsnbextension~=3.5.0->ipywidgets>=7.0.0->swifter) (0.5.0)\n",
      "Requirement already satisfied: mistune<2,>=0.8.1 in c:\\users\\anne\\appdata\\local\\programs\\python\\python310\\lib\\site-packages (from nbconvert->notebook>=4.4.1->widgetsnbextension~=3.5.0->ipywidgets>=7.0.0->swifter) (0.8.4)\n",
      "Requirement already satisfied: jupyterlab-pygments in c:\\users\\anne\\appdata\\local\\programs\\python\\python310\\lib\\site-packages (from nbconvert->notebook>=4.4.1->widgetsnbextension~=3.5.0->ipywidgets>=7.0.0->swifter) (0.1.2)\n",
      "Requirement already satisfied: pandocfilters>=1.4.1 in c:\\users\\anne\\appdata\\local\\programs\\python\\python310\\lib\\site-packages (from nbconvert->notebook>=4.4.1->widgetsnbextension~=3.5.0->ipywidgets>=7.0.0->swifter) (1.5.0)\n",
      "Requirement already satisfied: nbclient<0.6.0,>=0.5.0 in c:\\users\\anne\\appdata\\local\\programs\\python\\python310\\lib\\site-packages (from nbconvert->notebook>=4.4.1->widgetsnbextension~=3.5.0->ipywidgets>=7.0.0->swifter) (0.5.11)\n",
      "Requirement already satisfied: cffi>=1.0.1 in c:\\users\\anne\\appdata\\local\\programs\\python\\python310\\lib\\site-packages (from argon2-cffi-bindings->argon2-cffi->notebook>=4.4.1->widgetsnbextension~=3.5.0->ipywidgets>=7.0.0->swifter) (1.15.0)\n",
      "Requirement already satisfied: pycparser in c:\\users\\anne\\appdata\\local\\programs\\python\\python310\\lib\\site-packages (from cffi>=1.0.1->argon2-cffi-bindings->argon2-cffi->notebook>=4.4.1->widgetsnbextension~=3.5.0->ipywidgets>=7.0.0->swifter) (2.21)\n",
      "\n",
      "[notice] A new release of pip available: 22.1.2 -> 22.2\n",
      "[notice] To update, run: python.exe -m pip install --upgrade pip\n"
     ]
    },
    {
     "name": "stderr",
     "output_type": "stream",
     "text": [
      "[nltk_data] Downloading package punkt to\n",
      "[nltk_data]     C:\\Users\\Anne\\AppData\\Roaming\\nltk_data...\n",
      "[nltk_data]   Package punkt is already up-to-date!\n",
      "[nltk_data] Downloading package stopwords to\n",
      "[nltk_data]     C:\\Users\\Anne\\AppData\\Roaming\\nltk_data...\n",
      "[nltk_data]   Package stopwords is already up-to-date!\n"
     ]
    }
   ],
   "source": [
    "!pip install plotly\n",
    "!pip install --upgrade nbformat\n",
    "!pip install nltk\n",
    "!pip install spacy # spaCy is an open-source software library for advanced natural language processing\n",
    "!pip install WordCloud\n",
    "!pip install gensim # Gensim is an open-source library for unsupervised topic modeling and natural language processing\n",
    "!pip install Sastrawi\n",
    "!pip install swifter\n",
    "\n",
    "import pandas as pd\n",
    "import numpy as np\n",
    "import matplotlib.pyplot as plt\n",
    "import string\n",
    "import nltk\n",
    "import swifter\n",
    "import re\n",
    "import gensim\n",
    "import tensorflow as tf\n",
    "import keras\n",
    "import multiprocessing\n",
    "import os.path\n",
    "import requests\n",
    "import argparse\n",
    "import sys\n",
    "\n",
    "# from numpy.random import seed\n",
    "# seed(12345)\n",
    "# import tensorflow as tf\n",
    "# tf.random.set_seed(12345)\n",
    "# from tensorflow import keras\n",
    "\n",
    "from wordcloud import WordCloud, STOPWORDS\n",
    "\n",
    "nltk.download('punkt')\n",
    "nltk.download('stopwords')\n",
    "from Sastrawi.StopWordRemover.StopWordRemoverFactory import StopWordRemoverFactory\n",
    "from Sastrawi.Stemmer.StemmerFactory import StemmerFactory\n",
    "from nltk.probability import FreqDist\n",
    "from nltk.tokenize import word_tokenize, sent_tokenize\n",
    "from nltk.stem import PorterStemmer, WordNetLemmatizer\n",
    "from nltk.corpus import stopwords\n",
    "\n",
    "from gensim.utils import simple_preprocess\n",
    "from gensim.parsing.preprocessing import STOPWORDS\n",
    "\n",
    "\n",
    "from tensorflow.keras import layers, metrics, optimizers\n",
    "from tensorflow.keras import Input\n",
    "from tensorflow.keras.preprocessing.text import Tokenizer\n",
    "from tensorflow.keras.preprocessing.sequence import pad_sequences\n",
    "from tensorflow.keras.models import Model, Sequential\n",
    "from tensorflow.keras.layers import Dense, Embedding, LSTM, Conv1D, Dropout, MaxPool1D, GlobalMaxPooling1D, Embedding, Activation, Input, Flatten, Lambda, GRU\n",
    "from sklearn.model_selection import train_test_split\n",
    "from sklearn.metrics import classification_report, accuracy_score\n",
    "from tensorflow.keras.layers import TimeDistributed, Bidirectional, SpatialDropout1D, BatchNormalization, concatenate, Layer\n",
    "from tensorflow.keras.optimizers import RMSprop, SGD, Adamax, Adam, Nadam\n",
    "from tensorflow.keras.callbacks import EarlyStopping, ModelCheckpoint, TensorBoard, ReduceLROnPlateau\n",
    "\n",
    "from sklearn.metrics import classification_report\n",
    "from sklearn.metrics import accuracy_score\n",
    "\n",
    "from numpy import dot\n",
    "from numpy.linalg import norm\n",
    "\n",
    "from sklearn.metrics import accuracy_score\n",
    "from sklearn.metrics import precision_score\n",
    "from sklearn.metrics import recall_score\n",
    "from sklearn.metrics import f1_score\n",
    "from sklearn.metrics import confusion_matrix\n",
    "\n",
    "import random"
   ]
  },
  {
   "cell_type": "code",
   "execution_count": 2,
   "id": "44726b7c",
   "metadata": {},
   "outputs": [],
   "source": [
    "import re \n",
    "import gensim\n",
    "import multiprocessing\n",
    "import os.path\n",
    "import requests\n",
    "import argparse\n",
    "from Sastrawi.Stemmer.StemmerFactory import StemmerFactory\n",
    "import sys\n",
    "\n",
    "stopword = nltk.corpus.stopwords.words('indonesian')\n",
    "stopword = [e for e in stopword if e not in ('akankah', 'apa', 'apakah', 'bagaimana', 'bagaimanakah', 'beberapa', 'begini', 'beginilah', 'benarkah', 'berapa', 'berapakah', 'berikut', 'bisakah', 'bolehkah', 'cara', 'hal', 'ini', 'inikah', 'inilah', 'kapan', 'kapankah', 'kok', 'mengapa', 'menurut', 'mungkinkah', 'pentingnya', 'siapa', 'siapakah', 'waduh', 'wah')]\n",
    "\n",
    "factory = StemmerFactory()\n",
    "stemmer = factory.create_stemmer()\n",
    "\n",
    "# stemmed\n",
    "def stemmed_wrapper(term):\n",
    "  stemmed_list = []\n",
    "  for x in term:\n",
    "    stemmed_list.append(stemmer.stem(x))\n",
    "  return stemmed_list\n",
    "\n",
    "def remove_stopwords(text):\n",
    "\ttext = [word for word in text if word not in stopword]\n",
    "\treturn text\n",
    "\n",
    "def tokenization(text):\n",
    "\ttext = re.split('\\W+', text)\n",
    "\treturn text\n",
    "\n",
    "def cleaning_text(text):\n",
    "    # Menghilangkan baris baru, tab, underline.\n",
    "    text = text.replace('\\\\t',\" \").replace('\\\\n',\" \").replace('\\\\u',\" \").replace('\\\\',\"\")\n",
    "    # Ambil 3 Kalimat\n",
    "    text = ' '.join(re.split(r'(?<=[.:;])\\s', text)[:3])\n",
    "    # Menghilangkan simbol emoticon dan huruf selain ascii\n",
    "    text = text.encode('ascii', 'replace').decode('ascii')\n",
    "    # Menghapus mention (@), link, dan hashtag\n",
    "    text = ' '.join(re.sub(\"([@#][A-Za-z0-9]+)|(\\w+:\\/\\/\\S+)\",\" \", text).split())\n",
    "    # remove_empty_space\n",
    "    text = re.sub(r'', '', text.strip())\n",
    "    # remove number\n",
    "    text = re.sub(\"\\d+\", \"\", text)\n",
    "    #remove multiple space\n",
    "    text = re.sub(r'\\s\\s+', ' ', text)\n",
    "    # remove incomplete URL\n",
    "    return text.replace(\"http://\", \" \").replace(\"https://\", \" \")"
   ]
  },
  {
   "cell_type": "code",
   "execution_count": 3,
   "id": "14b74866",
   "metadata": {},
   "outputs": [],
   "source": [
    "np.random.seed(37)\n",
    "\n",
    "random.seed(1254)\n",
    "\n",
    "tf.random.set_seed(89)"
   ]
  },
  {
   "cell_type": "markdown",
   "id": "b6fd5061",
   "metadata": {},
   "source": [
    "### Pre-trained 100000 Data Artikel dari IdWiki"
   ]
  },
  {
   "cell_type": "code",
   "execution_count": 4,
   "id": "72e0ed74",
   "metadata": {},
   "outputs": [],
   "source": [
    "# import re \n",
    "# import gensim\n",
    "# import multiprocessing\n",
    "# import os.path\n",
    "# import requests\n",
    "# import argparse\n",
    "# from Sastrawi.Stemmer.StemmerFactory import StemmerFactory\n",
    "# import sys\n",
    "\n",
    "# def download(link, file_name):\n",
    "#     with open(file_name, \"wb\") as f:\n",
    "#         print(\"Downloading %s\" % file_name)\n",
    "#         response = requests.get(link, stream=True)\n",
    "#         total_length = response.headers.get('content-length')\n",
    "\n",
    "#         if total_length is None: # no content length header\n",
    "#             f.write(response.content)\n",
    "#         else:\n",
    "#             dl = 0\n",
    "#             total_length = int(total_length)\n",
    "#             for data in response.iter_content(chunk_size=4096):\n",
    "#                 dl += len(data)\n",
    "#                 f.write(data)\n",
    "#                 done = int(50 * dl / total_length)\n",
    "#                 sys.stdout.write(\"\\r[%s%s]\" % ('=' * done, ' ' * (50-done)) )\n",
    "#                 sys.stdout.flush()\n",
    "\n",
    "# def get_id_wiki(dump_path):\n",
    "#     if not os.path.isfile(dump_path):\n",
    "#         url = 'https://dumps.wikimedia.org/idwiki/latest/idwiki-latest-pages-articles.xml.bz2'\n",
    "#         download(url, dump_path)\n",
    "#     return gensim.corpora.WikiCorpus(dump_path, dictionary={})\n",
    "\n",
    "# def extract_text(extracted_path, id_wiki, stem, limit_articles):\n",
    "#     if os.path.isfile(extracted_path):\n",
    "#         return None\n",
    "#     if stem:\n",
    "#         print('Warning : Using stemmer could slow down the extracting progress')\n",
    "#         stemmer = StemmerFactory().create_stemmer()\n",
    "#     with open(extracted_path, 'w') as f:\n",
    "#         i = 0\n",
    "#         for text in id_wiki.get_texts():\n",
    "#             text = ' '.join(text)\n",
    "#             text = stemmer.stem(text) if stem else text\n",
    "#             f.write(text + '\\n', encoding=\"utf-8\")\n",
    "#             i += 1\n",
    "#             if i%(10 if stem else 1000) == 0:\n",
    "#                 if int(i) == limit_articles:\n",
    "#                   return None\n",
    "#                 print(str(i), 'articles processed')\n",
    "#         print('total:', str(i))\n",
    "#     return None\n",
    "\n",
    "# def main():\n",
    "#     model_path = 'idwiki_word2vec100.model'\n",
    "#     extracted_path = 'idwiki100.txt'\n",
    "#     dump_path = 'idwiki-latest-pages-articles.xml.bz2'\n",
    "#     dim = 100\n",
    "#     stem = False\n",
    "#     limit_articles = 100000\n",
    "#     id_wiki = get_id_wiki(dump_path)\n",
    "#     print('Extracting text...')\n",
    "#     extract_text(extracted_path, id_wiki, stem, limit_articles)\n",
    "\n",
    "# def str2bool(v):\n",
    "#     if v.lower() in ('yes', 'true', 't', 'y', '1'):\n",
    "#         return True\n",
    "#     elif v.lower() in ('no', 'false', 'f', 'n', '0'):\n",
    "#         return False\n",
    "#     else:\n",
    "#         raise argparse.ArgumentTypeError('Boolean value expected.')\n",
    "\n",
    "# if __name__ == '__main__':\n",
    "#     main()"
   ]
  },
  {
   "cell_type": "markdown",
   "id": "69ddd904",
   "metadata": {},
   "source": [
    "### Menggabungkan Dataset asli dengan data Idwiki"
   ]
  },
  {
   "cell_type": "code",
   "execution_count": 5,
   "id": "a1a0f946",
   "metadata": {},
   "outputs": [],
   "source": [
    "# df = pd.read_csv(\"Data Clean Tanpa Stemming.csv\", encoding=\"latin-1\")"
   ]
  },
  {
   "cell_type": "code",
   "execution_count": 6,
   "id": "d09d8bb2",
   "metadata": {},
   "outputs": [],
   "source": [
    "# def append_multiple_lines(file_name, lines_to_append):\n",
    "#     # Open the file in append &amp; read mode ('a+')\n",
    "#     with open(file_name, \"a+\") as file_object:\n",
    "#         appendEOL = False\n",
    "#         # Move read cursor to the start of file.\n",
    "#         file_object.seek(0)\n",
    "#         # Check if file is not empty\n",
    "#         data = file_object.read(100)\n",
    "#         if len(data) != 0:\n",
    "#             appendEOL = True\n",
    "#         # Iterate over each string in the list\n",
    "#         for line in lines_to_append:\n",
    "#             # If file is not empty then append '\\n' before first line for\n",
    "#             # other lines always append '\\n' before appending line\n",
    "#             if appendEOL == True:\n",
    "#                 file_object.write(\"\\n\")\n",
    "#             else:\n",
    "#                 appendEOL = True\n",
    "#             # Append element at the end of file\n",
    "#             file_object.write(line)            \n",
    " \n",
    "# all_texts = df[\"Judul\"].tolist() + df[\"Isi Berita\"].tolist()\n",
    "# append_multiple_lines('idwiki100.txt', all_texts)"
   ]
  },
  {
   "cell_type": "markdown",
   "id": "88051348",
   "metadata": {},
   "source": [
    "### Create Model"
   ]
  },
  {
   "cell_type": "code",
   "execution_count": 7,
   "id": "d23ac875",
   "metadata": {},
   "outputs": [],
   "source": [
    "# def build_model(extracted_path, model_path, dim):\n",
    "#     sentences = gensim.models.word2vec.LineSentence(extracted_path)\n",
    "#     id_w2v = gensim.models.word2vec.Word2Vec(sentences, size=dim, window = 5, workers=multiprocessing.cpu_count()-1)\n",
    "#     id_w2v.save(model_path)\n",
    "#     return id_w2v\n",
    " \n",
    "# model_path = 'idwiki_word2vec100.model'\n",
    "# extracted_path = 'idwiki100.txt'\n",
    "# dim = 100\n",
    "# print('Build a model...')\n",
    "# build_model(extracted_path, model_path, dim)\n",
    "# print('Saved model:', model_path) "
   ]
  },
  {
   "cell_type": "markdown",
   "id": "0a2ece1a",
   "metadata": {},
   "source": [
    "### Load Model Word2Vec"
   ]
  },
  {
   "cell_type": "code",
   "execution_count": 8,
   "id": "d5bab8c2",
   "metadata": {},
   "outputs": [
    {
     "data": {
      "text/plain": [
       "[('kerajaan', 0.6991432905197144),\n",
       " ('rajanya', 0.6931381225585938),\n",
       " ('penguasa', 0.6792371273040771),\n",
       " ('maharaja', 0.6785883903503418),\n",
       " ('firaun', 0.6699469089508057),\n",
       " ('kertanagara', 0.6185320615768433),\n",
       " ('ratu', 0.6140453219413757),\n",
       " ('permaisuri', 0.6066007614135742),\n",
       " ('bertakhta', 0.6034725308418274),\n",
       " ('ptolemaios', 0.5906604528427124)]"
      ]
     },
     "execution_count": 8,
     "metadata": {},
     "output_type": "execute_result"
    }
   ],
   "source": [
    "path = 'idwiki_word2vec200.model'\n",
    "id_w2v = gensim.models.word2vec.Word2Vec.load(path)\n",
    "id_w2v.wv.most_similar('raja')"
   ]
  },
  {
   "cell_type": "markdown",
   "id": "5f84e6c6",
   "metadata": {},
   "source": [
    "### Tokenizer Data"
   ]
  },
  {
   "cell_type": "code",
   "execution_count": 9,
   "id": "5036217d",
   "metadata": {},
   "outputs": [],
   "source": [
    "df_train = pd.read_csv(\"df_train.csv\", encoding=\"latin-1\")\n",
    "df_test = pd.read_csv(\"df_test.csv\", encoding=\"latin-1\")"
   ]
  },
  {
   "cell_type": "code",
   "execution_count": 10,
   "id": "b16ef185",
   "metadata": {},
   "outputs": [
    {
     "name": "stdout",
     "output_type": "stream",
     "text": [
      "The maximum number of words in any document is = 392\n"
     ]
    }
   ],
   "source": [
    "MAX_LEN = -1\n",
    "for doc in df_train[\"Judul\"]+df_train[\"Isi Berita\"]:\n",
    "    tokens = nltk.word_tokenize(doc)\n",
    "    if(MAX_LEN<len(tokens)):\n",
    "        MAX_LEN = len(tokens)\n",
    "print(\"The maximum number of words in any document is =\", MAX_LEN)"
   ]
  },
  {
   "cell_type": "code",
   "execution_count": 11,
   "id": "c7c48cdc",
   "metadata": {},
   "outputs": [],
   "source": [
    "all_texts = df_train[\"Judul\"].tolist() + df_train[\"Isi Berita\"].tolist()"
   ]
  },
  {
   "cell_type": "code",
   "execution_count": 12,
   "id": "ce257b77",
   "metadata": {},
   "outputs": [],
   "source": [
    "tokenizer = Tokenizer()\n",
    "tokenizer.fit_on_texts(all_texts)"
   ]
  },
  {
   "cell_type": "code",
   "execution_count": 13,
   "id": "0ca2fcc3",
   "metadata": {},
   "outputs": [],
   "source": [
    "title_train = tokenizer.texts_to_sequences(df_train[\"Judul\"].tolist())\n",
    "content_train = tokenizer.texts_to_sequences(df_train[\"Isi Berita\"].tolist())\n",
    "\n",
    "title_test = tokenizer.texts_to_sequences(df_test[\"Judul\"].tolist())\n",
    "content_test = tokenizer.texts_to_sequences(df_test[\"Isi Berita\"].tolist())"
   ]
  },
  {
   "cell_type": "code",
   "execution_count": 14,
   "id": "95d9fd05",
   "metadata": {},
   "outputs": [],
   "source": [
    "title_train = pad_sequences(title_train, MAX_LEN)\n",
    "content_train = pad_sequences(content_train, MAX_LEN)\n",
    "\n",
    "title_test = pad_sequences(title_test, MAX_LEN)\n",
    "content_test = pad_sequences(content_test, MAX_LEN)"
   ]
  },
  {
   "cell_type": "markdown",
   "id": "4518d76c",
   "metadata": {},
   "source": [
    "### Load Model Word2Vec & Cek Semantik Kata"
   ]
  },
  {
   "cell_type": "code",
   "execution_count": 15,
   "id": "f00b9731",
   "metadata": {},
   "outputs": [
    {
     "data": {
      "text/plain": [
       "(15337, 200)"
      ]
     },
     "execution_count": 15,
     "metadata": {},
     "output_type": "execute_result"
    }
   ],
   "source": [
    "### w2v_model cara lama diganti dengan load model\n",
    "vocab_size = len(tokenizer.word_index) + 1\n",
    "DIM = 200\n",
    "vocab = tokenizer.word_index\n",
    "# w2v_model = gensim.models.Word2Vec(sentences_split, size=DIM, min_count =1, window=5)\n",
    "path = 'idwiki_word2vec200.model'\n",
    "w2v_model = gensim.models.word2vec.Word2Vec.load(path)\n",
    "def get_weight_matrix(model):\n",
    "  weight_matrix = np.zeros((vocab_size, DIM))\n",
    "  for word, i in vocab.items():\n",
    "    try:\n",
    "      vec = model.wv[word]\n",
    "    except:\n",
    "      vec = None\n",
    "    if vec is not None:\n",
    "      weight_matrix[i] = vec\n",
    "  return weight_matrix\n",
    "embedding_vectors = get_weight_matrix(w2v_model)\n",
    "embedding_vectors.shape"
   ]
  },
  {
   "cell_type": "code",
   "execution_count": 16,
   "id": "afce5201",
   "metadata": {},
   "outputs": [
    {
     "data": {
      "text/plain": [
       "[('covid', 0.7599523067474365),\n",
       " ('kemenkes', 0.5891228914260864),\n",
       " ('lonjakan', 0.5673922300338745),\n",
       " ('sars', 0.5667186379432678),\n",
       " ('hiv', 0.5589964389801025),\n",
       " ('cegah', 0.5531119108200073),\n",
       " ('virus', 0.5439670085906982),\n",
       " ('waspadai', 0.5180369019508362),\n",
       " ('vaksin', 0.5165814757347107),\n",
       " ('varian', 0.5050985217094421)]"
      ]
     },
     "execution_count": 16,
     "metadata": {},
     "output_type": "execute_result"
    }
   ],
   "source": [
    "w2v_model.wv.most_similar('omicron')"
   ]
  },
  {
   "cell_type": "code",
   "execution_count": 17,
   "id": "862291c3",
   "metadata": {},
   "outputs": [
    {
     "data": {
      "text/plain": [
       "'sirup'"
      ]
     },
     "execution_count": 17,
     "metadata": {},
     "output_type": "execute_result"
    }
   ],
   "source": [
    "w2v_model.wv.doesnt_match(['omicron', 'covid', 'sirup'])"
   ]
  },
  {
   "cell_type": "code",
   "execution_count": 18,
   "id": "6ccf90c7",
   "metadata": {},
   "outputs": [
    {
     "data": {
      "text/plain": [
       "'kursi'"
      ]
     },
     "execution_count": 18,
     "metadata": {},
     "output_type": "execute_result"
    }
   ],
   "source": [
    "w2v_model.wv.doesnt_match(['omicron', 'covid', 'vaksin', 'kursi'])"
   ]
  },
  {
   "cell_type": "markdown",
   "id": "81c0ab11",
   "metadata": {},
   "source": [
    "### Pemodelan Bi-LSTM"
   ]
  },
  {
   "cell_type": "markdown",
   "id": "50bb4a09",
   "metadata": {},
   "source": [
    "#### Bi-LSTM + Cosine"
   ]
  },
  {
   "cell_type": "code",
   "execution_count": 19,
   "id": "1de46360",
   "metadata": {},
   "outputs": [],
   "source": [
    "from tensorflow.keras.layers import LSTM, MaxPool1D, Dropout, Dense, GlobalMaxPooling1D, Embedding, Activation\n",
    "from keras.models import Sequential\n",
    "from keras.layers import LSTM\n",
    "from keras.layers import Dense\n",
    "from keras.layers import TimeDistributed\n",
    "from keras.layers import Bidirectional, SpatialDropout1D\n",
    "import tensorflow as tf\n",
    "\n",
    "from tensorflow.keras import layers\n",
    "from tensorflow.keras import Input\n",
    "from tensorflow.keras.layers import concatenate, Layer\n",
    "from keras.models import Model\n",
    "from keras.layers import Input, Flatten, Dense, Dropout, Lambda, GRU\n",
    "from tensorflow.keras.optimizers import RMSprop, SGD, Adamax, Adam\n",
    "from tensorflow.keras.layers import BatchNormalization\n",
    "from keras import backend as K\n",
    "\n",
    "import joblib\n",
    "from sklearn.metrics import classification_report\n",
    "from sklearn.metrics import accuracy_score\n",
    "\n",
    "from numpy import dot\n",
    "from numpy.linalg import norm\n",
    "from keras.backend import int_shape\n",
    "from keras.layers import LSTM\n",
    "import keras\n",
    "from keras.callbacks import EarlyStopping\n",
    "from keras.callbacks import ReduceLROnPlateau\n",
    "from keras.utils import np_utils\n",
    "\n",
    "import matplotlib.pyplot as plt\n",
    "\n",
    "from tensorflow.keras.callbacks import ModelCheckpoint, TensorBoard\n",
    "from tensorflow.keras.callbacks import EarlyStopping\n",
    "from sklearn.model_selection import KFold \n",
    "from sklearn.metrics import accuracy_score\n",
    "from sklearn.metrics import precision_score\n",
    "from sklearn.metrics import recall_score\n",
    "from sklearn.metrics import f1_score\n",
    "from sklearn.metrics import confusion_matrix"
   ]
  },
  {
   "cell_type": "code",
   "execution_count": 20,
   "id": "dc648158",
   "metadata": {},
   "outputs": [
    {
     "data": {
      "text/plain": [
       "array([[    0,     0,     0, ...,   836,    46,   106],\n",
       "       [    0,     0,     0, ...,   744,  3711,  4909],\n",
       "       [    0,     0,     0, ...,   266,    43,  9318],\n",
       "       ...,\n",
       "       [    0,     0,     0, ..., 15334, 15335, 15336],\n",
       "       [    0,     0,     0, ...,  2051,    12,   541],\n",
       "       [    0,     0,     0, ...,    16,    16,  2967]])"
      ]
     },
     "execution_count": 20,
     "metadata": {},
     "output_type": "execute_result"
    }
   ],
   "source": [
    "# # X = [title_train, content_train]\n",
    "X_train = np.hstack((title_train, content_train))\n",
    "X_train"
   ]
  },
  {
   "cell_type": "code",
   "execution_count": 21,
   "id": "219163c0",
   "metadata": {},
   "outputs": [
    {
     "data": {
      "text/plain": [
       "(2815, 784)"
      ]
     },
     "execution_count": 21,
     "metadata": {},
     "output_type": "execute_result"
    }
   ],
   "source": [
    "X_train.shape"
   ]
  },
  {
   "cell_type": "code",
   "execution_count": 22,
   "id": "34b451ec",
   "metadata": {},
   "outputs": [
    {
     "data": {
      "text/plain": [
       "0       0\n",
       "1       0\n",
       "2       0\n",
       "3       0\n",
       "4       1\n",
       "       ..\n",
       "2810    0\n",
       "2811    0\n",
       "2812    1\n",
       "2813    0\n",
       "2814    1\n",
       "Name: Label, Length: 2815, dtype: int64"
      ]
     },
     "execution_count": 22,
     "metadata": {},
     "output_type": "execute_result"
    }
   ],
   "source": [
    "y_train = df_train['Label']\n",
    "y_train"
   ]
  },
  {
   "cell_type": "code",
   "execution_count": 23,
   "id": "3a746d2c",
   "metadata": {},
   "outputs": [
    {
     "data": {
      "text/plain": [
       "array([[   0,    0,    0, ...,  943,   51,   56],\n",
       "       [   0,    0,    0, ...,    1,   51,   56],\n",
       "       [   0,    0,    0, ..., 4708, 5749,  718],\n",
       "       ...,\n",
       "       [   0,    0,    0, ..., 1428,  273,    7],\n",
       "       [   0,    0,    0, ...,  147,  103,  849],\n",
       "       [   0,    0,    0, ...,  383,   23, 2183]])"
      ]
     },
     "execution_count": 23,
     "metadata": {},
     "output_type": "execute_result"
    }
   ],
   "source": [
    "# # X = [title_train, content_train]\n",
    "X_test = np.hstack((title_test, content_test))\n",
    "X_test"
   ]
  },
  {
   "cell_type": "code",
   "execution_count": 24,
   "id": "83a86fd4",
   "metadata": {},
   "outputs": [
    {
     "data": {
      "text/plain": [
       "(704, 784)"
      ]
     },
     "execution_count": 24,
     "metadata": {},
     "output_type": "execute_result"
    }
   ],
   "source": [
    "X_test.shape"
   ]
  },
  {
   "cell_type": "code",
   "execution_count": 25,
   "id": "be402d9e",
   "metadata": {},
   "outputs": [
    {
     "data": {
      "text/plain": [
       "0      0\n",
       "1      0\n",
       "2      0\n",
       "3      0\n",
       "4      0\n",
       "      ..\n",
       "699    1\n",
       "700    0\n",
       "701    0\n",
       "702    1\n",
       "703    0\n",
       "Name: Label, Length: 704, dtype: int64"
      ]
     },
     "execution_count": 25,
     "metadata": {},
     "output_type": "execute_result"
    }
   ],
   "source": [
    "y_test = df_test['Label']\n",
    "y_test"
   ]
  },
  {
   "cell_type": "code",
   "execution_count": 26,
   "id": "2db9ae64",
   "metadata": {},
   "outputs": [
    {
     "name": "stdout",
     "output_type": "stream",
     "text": [
      "SMOTE TRAIN\n",
      "Before OverSampling, counts of label '1': 625\n",
      "Before OverSampling, counts of label '0': 2190 \n",
      "\n",
      "After OverSampling, the shape of train_X: (4380, 784)\n",
      "After OverSampling, the shape of train_y: (4380,) \n",
      "\n",
      "After OverSampling, counts of label '1': 2190\n",
      "After OverSampling, counts of label '0': 2190\n",
      "SMOTE TRAIN\n",
      "Before OverSampling, counts of label '1': 156\n",
      "Before OverSampling, counts of label '0': 548 \n",
      "\n",
      "After OverSampling, the shape of train_X: (1096, 784)\n",
      "After OverSampling, the shape of train_y: (1096,) \n",
      "\n",
      "After OverSampling, counts of label '1': 548\n",
      "After OverSampling, counts of label '0': 548\n"
     ]
    }
   ],
   "source": [
    "print (\"SMOTE TRAIN\")\n",
    "print(\"Before OverSampling, counts of label '1': {}\".format(sum(y_train == 1)))\n",
    "print(\"Before OverSampling, counts of label '0': {} \\n\".format(sum(y_train == 0)))\n",
    "  \n",
    "# import SMOTE module from imblearn library\n",
    "# pip install imblearn (if you don't have imblearn in your system)\n",
    "from imblearn.over_sampling import SMOTE\n",
    "sm = SMOTE(random_state = 42)\n",
    "X_train, y_train = sm.fit_resample(X_train, y_train)\n",
    "  \n",
    "print('After OverSampling, the shape of train_X: {}'.format(X_train.shape))\n",
    "print('After OverSampling, the shape of train_y: {} \\n'.format(y_train.shape))\n",
    "  \n",
    "print(\"After OverSampling, counts of label '1': {}\".format(sum(y_train == 1)))\n",
    "print(\"After OverSampling, counts of label '0': {}\".format(sum(y_train == 0)))\n",
    "\n",
    "print (\"SMOTE TRAIN\")\n",
    "print(\"Before OverSampling, counts of label '1': {}\".format(sum(y_test == 1)))\n",
    "print(\"Before OverSampling, counts of label '0': {} \\n\".format(sum(y_test == 0)))\n",
    "\n",
    "X_test, y_test = sm.fit_resample(X_test, y_test)\n",
    "\n",
    "print('After OverSampling, the shape of train_X: {}'.format(X_test.shape))\n",
    "print('After OverSampling, the shape of train_y: {} \\n'.format(y_test.shape))\n",
    "  \n",
    "print(\"After OverSampling, counts of label '1': {}\".format(sum(y_test == 1)))\n",
    "print(\"After OverSampling, counts of label '0': {}\".format(sum(y_test == 0)))"
   ]
  },
  {
   "cell_type": "code",
   "execution_count": 27,
   "id": "12452718",
   "metadata": {},
   "outputs": [],
   "source": [
    "X_train = np.hsplit(X_train,2)"
   ]
  },
  {
   "cell_type": "code",
   "execution_count": 28,
   "id": "979b4eee",
   "metadata": {},
   "outputs": [
    {
     "data": {
      "text/plain": [
       "[array([[   0,    0,    0, ...,  391,  998, 1420],\n",
       "        [   0,    0,    0, ...,  672,   11, 1860],\n",
       "        [   0,    0,    0, ...,  103,  739,   12],\n",
       "        ...,\n",
       "        [   0,    0,    0, ...,   35,   43,  134],\n",
       "        [   0,    0,    0, ..., 2098,  502,  481],\n",
       "        [   0,    0,    0, ...,    8,   86,    5]]),\n",
       " array([[   0,    0,    0, ...,  836,   46,  106],\n",
       "        [   0,    0,    0, ...,  744, 3711, 4909],\n",
       "        [   0,    0,    0, ...,  266,   43, 9318],\n",
       "        ...,\n",
       "        [   0,    0,    0, ...,  213,  540,   54],\n",
       "        [   0,    0,    0, ...,  837,  627, 2751],\n",
       "        [   0,    0,    0, ..., 7229, 4128,  402]])]"
      ]
     },
     "execution_count": 28,
     "metadata": {},
     "output_type": "execute_result"
    }
   ],
   "source": [
    "X_train"
   ]
  },
  {
   "cell_type": "code",
   "execution_count": 29,
   "id": "0b37fc11",
   "metadata": {},
   "outputs": [],
   "source": [
    "X_test = np.hsplit(X_test,2)"
   ]
  },
  {
   "cell_type": "code",
   "execution_count": 30,
   "id": "de802e7f",
   "metadata": {},
   "outputs": [
    {
     "data": {
      "text/plain": [
       "[array([[   0,    0,    0, ...,  108,    9,    8],\n",
       "        [   0,    0,    0, ...,  142,  414,    2],\n",
       "        [   0,    0,    0, ..., 1631,  617, 2428],\n",
       "        ...,\n",
       "        [   0,    0,    0, ...,  415,  479, 1144],\n",
       "        [   0,    0,    0, ...,  297,   44,  114],\n",
       "        [   0,    0,    0, ..., 1764,  850,  748]]),\n",
       " array([[   0,    0,    0, ...,  943,   51,   56],\n",
       "        [   0,    0,    0, ...,    1,   51,   56],\n",
       "        [   0,    0,    0, ..., 4708, 5749,  718],\n",
       "        ...,\n",
       "        [   0,    0,    0, ..., 1620, 2176,   12],\n",
       "        [   0,    0,    0, ...,   44,  814,  335],\n",
       "        [   0,    0,    0, ..., 2769,  498,  287]])]"
      ]
     },
     "execution_count": 30,
     "metadata": {},
     "output_type": "execute_result"
    }
   ],
   "source": [
    "X_test"
   ]
  },
  {
   "cell_type": "code",
   "execution_count": 31,
   "id": "452fc148",
   "metadata": {},
   "outputs": [],
   "source": [
    "# ytrain = tf.keras.utils.to_categorical(y, num_classes=2)\n",
    "ytrain = tf.keras.utils.to_categorical(y_train, num_classes=2)\n",
    "ytest = tf.keras.utils.to_categorical(y_test, num_classes=2)"
   ]
  },
  {
   "cell_type": "code",
   "execution_count": 32,
   "id": "837e7e7e",
   "metadata": {},
   "outputs": [],
   "source": [
    "def bilstm_siamese_model():\n",
    "\n",
    "  input_left = Input(shape=(None,), dtype=\"int64\")\n",
    "  input_right = Input(shape=(None,), dtype=\"int64\")\n",
    "\n",
    "  embedding_layer = Embedding(vocab_size, DIM, embeddings_initializer=keras.initializers.Constant(embedding_vectors), \n",
    "                              trainable=False)\n",
    "  \n",
    "  lstm_sub_net = Sequential()\n",
    "  lstm_sub_net(Input(shape=(None,)))\n",
    "  lstm_sub_net.add(Bidirectional(LSTM(128,return_sequences=True), input_shape = (None,200)))\n",
    "  lstm_sub_net.add(Bidirectional(LSTM(128)))\n",
    "  \n",
    "  # sub_net = Sequential()\n",
    "  # sub_net.add(Conv1D(50, 9, activation=\"relu\", padding='same', input_shape = (None, 150)))\n",
    "\n",
    "  input_encoded_left = embedding_layer(input_left)\n",
    "  input_encoded_right = embedding_layer(input_right)\n",
    "\n",
    "  # left_encoding = sub_net(input_encoded_left)\n",
    "  # right_encoding = sub_net(input_encoded_right)\n",
    "  left_encoding = lstm_sub_net(tf.concat([input_encoded_left], axis = 1))\n",
    "  right_encoding = lstm_sub_net(tf.concat([input_encoded_right], axis = 1))\n",
    "\n",
    "  # L1_distance = tf.keras.layers.Dot(axes=-1, normalize=True, name='cosine',\n",
    "  #                   dtype=tf.float64)([left_encoding, right_encoding])\n",
    "\n",
    "  L1_distance = tf.keras.layers.Dot(axes=-1, normalize=True, name='cosine')([left_encoding, right_encoding])\n",
    "\n",
    "  predictor = Sequential()\n",
    "  predictor.add(Dense(2))\n",
    "  predictor.add(Dropout(0.3))\n",
    "  predictor.add(Activation('softmax'))\n",
    "\n",
    "  prediction = predictor(L1_distance)\n",
    "\n",
    "  model = Model(inputs=[input_left,input_right], outputs=prediction)\n",
    "  #model.compile(loss=\"categorical_crossentropy\", optimizer=Adamax(learning_rate=0.0001), metrics=[\"acc\"])\n",
    "  model.compile(loss='categorical_crossentropy',\n",
    "              optimizer='adamax',\n",
    "              metrics=['acc'])\n",
    "  model.summary()\n",
    "  return model"
   ]
  },
  {
   "cell_type": "code",
   "execution_count": 33,
   "id": "756450ee",
   "metadata": {},
   "outputs": [
    {
     "name": "stdout",
     "output_type": "stream",
     "text": [
      "Model: \"model\"\n",
      "__________________________________________________________________________________________________\n",
      " Layer (type)                   Output Shape         Param #     Connected to                     \n",
      "==================================================================================================\n",
      " input_1 (InputLayer)           [(None, None)]       0           []                               \n",
      "                                                                                                  \n",
      " input_2 (InputLayer)           [(None, None)]       0           []                               \n",
      "                                                                                                  \n",
      " embedding (Embedding)          (None, None, 200)    3067400     ['input_1[0][0]',                \n",
      "                                                                  'input_2[0][0]']                \n",
      "                                                                                                  \n",
      " tf.identity (TFOpLambda)       (None, None, 200)    0           ['embedding[0][0]']              \n",
      "                                                                                                  \n",
      " tf.identity_1 (TFOpLambda)     (None, None, 200)    0           ['embedding[1][0]']              \n",
      "                                                                                                  \n",
      " sequential (Sequential)        (None, 256)          731136      ['tf.identity[0][0]',            \n",
      "                                                                  'tf.identity_1[0][0]']          \n",
      "                                                                                                  \n",
      " cosine (Dot)                   (None, 1)            0           ['sequential[1][0]',             \n",
      "                                                                  'sequential[2][0]']             \n",
      "                                                                                                  \n",
      " sequential_1 (Sequential)      (None, 2)            4           ['cosine[0][0]']                 \n",
      "                                                                                                  \n",
      "==================================================================================================\n",
      "Total params: 3,798,540\n",
      "Trainable params: 731,140\n",
      "Non-trainable params: 3,067,400\n",
      "__________________________________________________________________________________________________\n",
      "Learning rate: 0.01\n",
      "Epoch 1/10\n",
      "137/137 [==============================] - 881s 6s/step - loss: 0.6457 - acc: 0.5758 - val_loss: 0.5387 - val_acc: 0.7682 - lr: 0.0100\n",
      "Learning rate: 0.009\n",
      "Epoch 2/10\n",
      "137/137 [==============================] - 820s 6s/step - loss: 0.5309 - acc: 0.7491 - val_loss: 0.5079 - val_acc: 0.7692 - lr: 0.0090\n",
      "Learning rate: 0.0081\n",
      "Epoch 3/10\n",
      "137/137 [==============================] - 868s 6s/step - loss: 0.4604 - acc: 0.8039 - val_loss: 0.4247 - val_acc: 0.8285 - lr: 0.0081\n",
      "Learning rate: 0.00729\n",
      "Epoch 4/10\n",
      "137/137 [==============================] - 867s 6s/step - loss: 0.3961 - acc: 0.8390 - val_loss: 0.3649 - val_acc: 0.8540 - lr: 0.0073\n",
      "Learning rate: 0.006561\n",
      "Epoch 5/10\n",
      "137/137 [==============================] - 881s 6s/step - loss: 0.3276 - acc: 0.8685 - val_loss: 0.3494 - val_acc: 0.8540 - lr: 0.0066\n",
      "Learning rate: 0.0059049\n",
      "Epoch 6/10\n",
      "137/137 [==============================] - 862s 6s/step - loss: 0.2792 - acc: 0.8909 - val_loss: 0.3652 - val_acc: 0.8476 - lr: 0.0059\n",
      "Learning rate: 0.00531441\n",
      "Epoch 7/10\n",
      "137/137 [==============================] - 860s 6s/step - loss: 0.2410 - acc: 0.9110 - val_loss: 0.3396 - val_acc: 0.8558 - lr: 0.0053\n",
      "Learning rate: 0.004782969\n",
      "Epoch 8/10\n",
      "137/137 [==============================] - 852s 6s/step - loss: 0.2106 - acc: 0.9126 - val_loss: 0.3500 - val_acc: 0.8631 - lr: 0.0048\n",
      "Learning rate: 0.004304672\n",
      "Epoch 9/10\n",
      "137/137 [==============================] - 861s 6s/step - loss: 0.1885 - acc: 0.9247 - val_loss: 0.3483 - val_acc: 0.8595 - lr: 0.0043\n",
      "Learning rate: 0.0038742048\n",
      "Epoch 10/10\n",
      "137/137 [==============================] - 846s 6s/step - loss: 0.1617 - acc: 0.9313 - val_loss: 0.3745 - val_acc: 0.8440 - lr: 0.0039\n"
     ]
    }
   ],
   "source": [
    "model = bilstm_siamese_model()\n",
    "\n",
    "# ytrain = np_utils.to_categorical(y_train)\n",
    "# ytest = np_utils.to_categorical(y_test)\n",
    "\n",
    "# checkpoints_smote = ModelCheckpoint('smote_weights.hdf5', monitor=\"val_acc\", mode=\"max\", verbose=True, save_best_only=True)\n",
    "\n",
    "def lr_scheduler(epoch):\n",
    "    return 0.01 * 0.9 ** epoch\n",
    "\n",
    "class LrHistory(keras.callbacks.Callback):\n",
    "    def on_epoch_begin(self, epoch, logs={}):\n",
    "        print(\"Learning rate:\", K.get_value(model.optimizer.lr))\n",
    "\n",
    "history = model.fit(\n",
    "    X_train, ytrain, \n",
    "    batch_size=32, \n",
    "    epochs=10,\n",
    "    callbacks=[keras.callbacks.LearningRateScheduler(lr_scheduler),LrHistory(),EarlyStopping(monitor='loss', patience=5)],\n",
    "    validation_data=([X_test],ytest),\n",
    "    verbose=1,\n",
    "    initial_epoch = 0\n",
    ")"
   ]
  },
  {
   "cell_type": "code",
   "execution_count": 34,
   "id": "61c645e2",
   "metadata": {},
   "outputs": [],
   "source": [
    "model_filename = 'modelfinal.hdf5'\n",
    "model.save(model_filename)\n",
    "model = tf.keras.models.load_model(model_filename)"
   ]
  },
  {
   "cell_type": "code",
   "execution_count": 35,
   "id": "880998f9",
   "metadata": {},
   "outputs": [
    {
     "data": {
      "image/png": "[encoded data removed]",
      "text/plain": [
       "<Figure size 432x288 with 1 Axes>"
      ]
     },
     "metadata": {
      "needs_background": "light"
     },
     "output_type": "display_data"
    }
   ],
   "source": [
    "plt.plot(history.history['acc'])\n",
    "plt.plot(history.history['val_acc'])\n",
    "plt.title('model accuracy')\n",
    "plt.ylabel('accuracy')\n",
    "plt.xlabel('epoch')\n",
    "plt.legend(['train', 'val'], loc='upper left')\n",
    "plt.show()"
   ]
  },
  {
   "cell_type": "code",
   "execution_count": 36,
   "id": "b5c0e3f3",
   "metadata": {},
   "outputs": [
    {
     "data": {
      "image/png": "[encoded data removed]",
      "text/plain": [
       "<Figure size 432x288 with 1 Axes>"
      ]
     },
     "metadata": {
      "needs_background": "light"
     },
     "output_type": "display_data"
    }
   ],
   "source": [
    "plt.plot(history.history['loss'])\n",
    "plt.plot(history.history['val_loss'])\n",
    "plt.title('model loss')\n",
    "plt.ylabel('accuracy')\n",
    "plt.xlabel('epoch')\n",
    "plt.legend(['train', 'val'], loc='upper left')\n",
    "plt.show()"
   ]
  },
  {
   "cell_type": "code",
   "execution_count": 37,
   "id": "8b1aea20",
   "metadata": {},
   "outputs": [
    {
     "name": "stdout",
     "output_type": "stream",
     "text": [
      "['polisi menangkap pelaku pemukulan anak anggota dpr']\n",
      "['polisi menangkap faisal marasabessy anak ali fanser marasabessy pelaku pemukulan justin frederick korban anak anggota dpr bernama indah kurniawati faisal']\n"
     ]
    }
   ],
   "source": [
    "judul = \"Polisi Menangkap Pelaku Pemukulan Anak Anggota DPR\"\n",
    "content = \"\"\"Polisi telah menangkap Faisal Marasabessy, anak dari Ali Fanser Marasabessy, selaku pelaku pemukulan kepada Justin Frederick. Korban diketahui sebagai anak anggota DPR bernama Indah Kurniawati.\n",
    "Faisal ikut ditampilkan saat Polda Metro Jaya menggelar konferensi pers kasus itu siang ini, Senin (6/6/2022). Faisal Marasabessy tampak telah menggunakan baju tahanan berwarna oranye.\n",
    "Tidak ada komentar yang keluar dari mulut Faisal. Tangannya pun diikat tali ties.\"\"\"\n",
    "judul = cleaning_text(judul)\n",
    "content = cleaning_text(content)\n",
    "\n",
    "judul = tokenization(judul.lower())\n",
    "content = tokenization(content.lower())\n",
    "\n",
    "judul = remove_stopwords(judul)\n",
    "content = remove_stopwords(content)\n",
    "\n",
    "# judul = stemmed_wrapper(judul)\n",
    "# content = stemmed_wrapper(content)\n",
    "\n",
    "judul = \" \".join(judul)\n",
    "content = \" \".join(content)\n",
    "\n",
    "# clean_judul = [\" \".join(judul.split())]\n",
    "# clean_content = [\" \".join(content.split())]\n",
    "clean_judul = [\" \".join(judul.split()[:20])]\n",
    "clean_content = [\" \".join(content.split()[:20])]\n",
    "print(clean_judul)\n",
    "print(clean_content)"
   ]
  },
  {
   "cell_type": "code",
   "execution_count": 38,
   "id": "a7fa09ef",
   "metadata": {},
   "outputs": [],
   "source": [
    "clean_judul = tokenizer.texts_to_sequences(clean_judul)\n",
    "clean_judul = pad_sequences(clean_judul,maxlen=MAX_LEN)\n",
    "\n",
    "clean_content = tokenizer.texts_to_sequences(clean_content)\n",
    "clean_content = pad_sequences(clean_content,maxlen=MAX_LEN)"
   ]
  },
  {
   "cell_type": "code",
   "execution_count": 39,
   "id": "e0f52759",
   "metadata": {},
   "outputs": [
    {
     "name": "stdout",
     "output_type": "stream",
     "text": [
      "1/1 [==============================] - 2s 2s/step\n",
      "hasil predict  [[0.934765   0.06523503]]\n",
      "non-clickbait\n"
     ]
    }
   ],
   "source": [
    "coba_predicted = model.predict([clean_judul, clean_content])\n",
    "print(\"hasil predict \", coba_predicted)\n",
    "if coba_predicted[0][0] < 0.5:\n",
    "    print(\"clickbait\")\n",
    "else:\n",
    "    print(\"non-clickbait\")"
   ]
  },
  {
   "cell_type": "code",
   "execution_count": 40,
   "id": "831ea92e",
   "metadata": {},
   "outputs": [
    {
     "name": "stdout",
     "output_type": "stream",
     "text": [
      "35/35 [==============================] - 50s 1s/step\n"
     ]
    }
   ],
   "source": [
    "predict_test = model.predict([X_test])\n",
    "# [title_test, content_test],y_test]"
   ]
  },
  {
   "cell_type": "code",
   "execution_count": 41,
   "id": "bc982457",
   "metadata": {},
   "outputs": [
    {
     "data": {
      "text/plain": [
       "array([[0.9680712 , 0.03192885],\n",
       "       [0.9522559 , 0.04774405],\n",
       "       [0.96819836, 0.0318016 ],\n",
       "       ...,\n",
       "       [0.00975961, 0.99024045],\n",
       "       [0.01241112, 0.98758894],\n",
       "       [0.009263  , 0.990737  ]], dtype=float32)"
      ]
     },
     "execution_count": 41,
     "metadata": {},
     "output_type": "execute_result"
    }
   ],
   "source": [
    "predict_test"
   ]
  },
  {
   "cell_type": "code",
   "execution_count": 42,
   "id": "c55f2cea",
   "metadata": {},
   "outputs": [],
   "source": [
    "y_pred=np.argmax(predict_test, axis=1)\n",
    "y_testp=np.argmax(ytest, axis=1)"
   ]
  },
  {
   "cell_type": "code",
   "execution_count": 43,
   "id": "089531e6",
   "metadata": {},
   "outputs": [
    {
     "name": "stdout",
     "output_type": "stream",
     "text": [
      "[[465  83]\n",
      " [ 88 460]]\n"
     ]
    }
   ],
   "source": [
    "from sklearn.metrics import confusion_matrix\n",
    "\n",
    "#Generate the confusion matrix\n",
    "cf_matrix = confusion_matrix(y_testp, y_pred)\n",
    "\n",
    "print(cf_matrix)\n",
    "TN = cf_matrix[0][0]\n",
    "FP = cf_matrix[0][1]\n",
    "FN = cf_matrix[1][0]\n",
    "TP = cf_matrix[1][1]"
   ]
  },
  {
   "cell_type": "code",
   "execution_count": 44,
   "id": "fc811f06",
   "metadata": {
    "scrolled": true
   },
   "outputs": [
    {
     "name": "stdout",
     "output_type": "stream",
     "text": [
      "accuracy  0.843978102189781\n",
      "precision  0.8471454880294659\n",
      "recall  0.8394160583941606\n",
      "f1_score  0.8432630614115488\n"
     ]
    }
   ],
   "source": [
    "accuracy = (TN+TP)/(TN+FP+TP+FN)\n",
    "precision = TP/(TP+FP)\n",
    "recall = TP/(TP+FN)\n",
    "f1_score = 2*((precision*recall)/(precision+recall))\n",
    "print(\"accuracy \",accuracy)\n",
    "print(\"precision \",precision)\n",
    "print(\"recall \", recall)\n",
    "print(\"f1_score \",f1_score)"
   ]
  },
  {
   "cell_type": "markdown",
   "id": "dc085598",
   "metadata": {},
   "source": [
    "### Bi-LSTM with CNN + Cosi"
   ]
  },
  {
   "cell_type": "code",
   "execution_count": 45,
   "id": "c4003ee4",
   "metadata": {},
   "outputs": [],
   "source": [
    "#Model mengambil input sepasang kalimat (title & content) dan mengeluarkan output similarity score dari kedua makna sepasang kalimat tersebut\n",
    "def bilstm_siamese_model2():\n",
    "\n",
    "  #inisiasi dua input dengan shape none\n",
    "  input_left = Input(shape=(None,), dtype=\"int64\")\n",
    "  input_right = Input(shape=(None,), dtype=\"int64\")\n",
    "\n",
    "  # Menggunakan w2vec gensim untuk mengahsilkan matriks dari kalimat yang diinputkan kedalam embbeding sebagai representasi kata, sebelum dimasukkan ke jaringan.\n",
    "  embedding_layer = Embedding(vocab_size, DIM, embeddings_initializer=keras.initializers.Constant(embedding_vectors), \n",
    "                              trainable=False)\n",
    "  input_encoded_left = embedding_layer(input_left)\n",
    "  input_encoded_right = embedding_layer(input_right)\n",
    "\n",
    "  # Jaringan CNN berfungsi untuk mengumpulkan beberapa konteks kata-kata terdekat untuk membuat embbeding yang lebih kaya dan akurat\n",
    "  sub_net = Sequential()\n",
    "  sub_net.add(Conv1D(50, 9, activation=\"relu\", padding='same', input_shape = (None, 200)))\n",
    "  left_encoding = sub_net(input_encoded_left)\n",
    "  right_encoding = sub_net(input_encoded_right)\n",
    "\n",
    "  # Jaringan BiLSTM berfungsi untuk menghasilkan embbeding representasi dari keseluruhan kalimat\n",
    "  lstm_sub_net = Sequential()\n",
    "  lstm_sub_net(Input(shape=(None,)))\n",
    "  lstm_sub_net.add(Bidirectional(LSTM(128,return_sequences=True), input_shape = (None,250)))\n",
    "  lstm_sub_net.add(Bidirectional(LSTM(128)))\n",
    "\n",
    "  # proses jaringan cnn & bilstm bekerja\n",
    "  left_encoding = lstm_sub_net(tf.concat([input_encoded_left, left_encoding], axis = 2))\n",
    "  right_encoding = lstm_sub_net(tf.concat([input_encoded_right, right_encoding], axis = 2))\n",
    "\n",
    "  # Layer Dot digunakan untuk menghitung jarak kesamaan diantara 2 tensor\n",
    "  L1_distance = tf.keras.layers.Dot(axes=-1, normalize=True, name='cosine')([left_encoding, right_encoding])\n",
    "\n",
    "  # Prediksi jarak kedua tensor kedalam 2 dense [non-clickbait, clickbait]\n",
    "  predictor = Sequential()\n",
    "  predictor.add(Dense(2))\n",
    "  predictor.add(Dropout(0.3))\n",
    "  predictor.add(Activation('softmax'))\n",
    "\n",
    "  prediction = predictor(L1_distance)\n",
    "\n",
    "  model = Model(inputs=[input_left,input_right], outputs=prediction)\n",
    "  model.compile(loss='categorical_crossentropy',\n",
    "              optimizer='adamax',\n",
    "              metrics=['acc'])\n",
    "  model.summary()\n",
    "  return model"
   ]
  },
  {
   "cell_type": "code",
   "execution_count": 46,
   "id": "7173fb0a",
   "metadata": {
    "scrolled": true
   },
   "outputs": [
    {
     "name": "stdout",
     "output_type": "stream",
     "text": [
      "Model: \"model_1\"\n",
      "__________________________________________________________________________________________________\n",
      " Layer (type)                   Output Shape         Param #     Connected to                     \n",
      "==================================================================================================\n",
      " input_4 (InputLayer)           [(None, None)]       0           []                               \n",
      "                                                                                                  \n",
      " input_5 (InputLayer)           [(None, None)]       0           []                               \n",
      "                                                                                                  \n",
      " embedding_1 (Embedding)        (None, None, 200)    3067400     ['input_4[0][0]',                \n",
      "                                                                  'input_5[0][0]']                \n",
      "                                                                                                  \n",
      " sequential_2 (Sequential)      (None, None, 50)     90050       ['embedding_1[0][0]',            \n",
      "                                                                  'embedding_1[1][0]']            \n",
      "                                                                                                  \n",
      " tf.concat (TFOpLambda)         (None, None, 250)    0           ['embedding_1[0][0]',            \n",
      "                                                                  'sequential_2[0][0]']           \n",
      "                                                                                                  \n",
      " tf.concat_1 (TFOpLambda)       (None, None, 250)    0           ['embedding_1[1][0]',            \n",
      "                                                                  'sequential_2[1][0]']           \n",
      "                                                                                                  \n",
      " sequential_3 (Sequential)      (None, 256)          782336      ['tf.concat[0][0]',              \n",
      "                                                                  'tf.concat_1[0][0]']            \n",
      "                                                                                                  \n",
      " cosine (Dot)                   (None, 1)            0           ['sequential_3[1][0]',           \n",
      "                                                                  'sequential_3[2][0]']           \n",
      "                                                                                                  \n",
      " sequential_4 (Sequential)      (None, 2)            4           ['cosine[0][0]']                 \n",
      "                                                                                                  \n",
      "==================================================================================================\n",
      "Total params: 3,939,790\n",
      "Trainable params: 872,390\n",
      "Non-trainable params: 3,067,400\n",
      "__________________________________________________________________________________________________\n",
      "Learning rate: 0.01\n",
      "Epoch 1/10\n",
      "137/137 [==============================] - 1145s 8s/step - loss: 0.6289 - acc: 0.6153 - val_loss: 0.4910 - val_acc: 0.8047 - lr: 0.0100\n",
      "Learning rate: 0.009\n",
      "Epoch 2/10\n",
      "137/137 [==============================] - 1342s 10s/step - loss: 0.4701 - acc: 0.8011 - val_loss: 0.3776 - val_acc: 0.8604 - lr: 0.0090\n",
      "Learning rate: 0.0081\n",
      "Epoch 3/10\n",
      "137/137 [==============================] - 1469s 11s/step - loss: 0.3728 - acc: 0.8495 - val_loss: 0.3477 - val_acc: 0.8714 - lr: 0.0081\n",
      "Learning rate: 0.00729\n",
      "Epoch 4/10\n",
      "137/137 [==============================] - 1428s 10s/step - loss: 0.3033 - acc: 0.8813 - val_loss: 0.3355 - val_acc: 0.8695 - lr: 0.0073\n",
      "Learning rate: 0.006561\n",
      "Epoch 5/10\n",
      "137/137 [==============================] - 8189s 60s/step - loss: 0.2299 - acc: 0.9128 - val_loss: 0.3465 - val_acc: 0.8613 - lr: 0.0066\n",
      "Learning rate: 0.0059049\n",
      "Epoch 6/10\n",
      "137/137 [==============================] - 1044s 8s/step - loss: 0.1831 - acc: 0.9283 - val_loss: 0.3366 - val_acc: 0.8704 - lr: 0.0059\n",
      "Learning rate: 0.00531441\n",
      "Epoch 7/10\n",
      "137/137 [==============================] - 1110s 8s/step - loss: 0.1411 - acc: 0.9463 - val_loss: 0.3512 - val_acc: 0.8714 - lr: 0.0053\n",
      "Learning rate: 0.004782969\n",
      "Epoch 8/10\n",
      "137/137 [==============================] - 1086s 8s/step - loss: 0.1263 - acc: 0.9463 - val_loss: 0.3683 - val_acc: 0.8677 - lr: 0.0048\n",
      "Learning rate: 0.004304672\n",
      "Epoch 9/10\n",
      "137/137 [==============================] - 1099s 8s/step - loss: 0.1086 - acc: 0.9505 - val_loss: 0.3826 - val_acc: 0.8786 - lr: 0.0043\n",
      "Learning rate: 0.0038742048\n",
      "Epoch 10/10\n",
      "137/137 [==============================] - 1093s 8s/step - loss: 0.0961 - acc: 0.9516 - val_loss: 0.3718 - val_acc: 0.8832 - lr: 0.0039\n"
     ]
    }
   ],
   "source": [
    "model = bilstm_siamese_model2()\n",
    "\n",
    "# ytrain = np_utils.to_categorical(y_train)\n",
    "# ytest = np_utils.to_categorical(y_test)\n",
    "\n",
    "# checkpoints_smote = ModelCheckpoint('smote_weights.hdf5', monitor=\"val_acc\", mode=\"max\", verbose=True, save_best_only=True)\n",
    "\n",
    "def lr_scheduler(epoch):\n",
    "    return 0.01 * 0.9 ** epoch\n",
    "\n",
    "class LrHistory(keras.callbacks.Callback):\n",
    "    def on_epoch_begin(self, epoch, logs={}):\n",
    "        print(\"Learning rate:\", K.get_value(model.optimizer.lr))\n",
    "\n",
    "history = model.fit(\n",
    "    X_train, ytrain, \n",
    "    batch_size=32, \n",
    "    epochs=10,\n",
    "    callbacks=[keras.callbacks.LearningRateScheduler(lr_scheduler),LrHistory(),EarlyStopping(monitor='loss', patience=5)],\n",
    "    validation_data=([X_test],ytest),\n",
    "    verbose=1,\n",
    "    initial_epoch = 0\n",
    ")"
   ]
  },
  {
   "cell_type": "code",
   "execution_count": 47,
   "id": "ac1035f9",
   "metadata": {},
   "outputs": [],
   "source": [
    "model_filename = 'modelfinal2.hdf5'\n",
    "model.save(model_filename)\n",
    "model = tf.keras.models.load_model(model_filename)"
   ]
  },
  {
   "cell_type": "code",
   "execution_count": 48,
   "id": "3b1e524c",
   "metadata": {},
   "outputs": [
    {
     "data": {
      "image/png": "[encoded data removed]",
      "text/plain": [
       "<Figure size 432x288 with 1 Axes>"
      ]
     },
     "metadata": {
      "needs_background": "light"
     },
     "output_type": "display_data"
    }
   ],
   "source": [
    "plt.plot(history.history['acc'])\n",
    "plt.plot(history.history['val_acc'])\n",
    "plt.title('model accuracy')\n",
    "plt.ylabel('accuracy')\n",
    "plt.xlabel('epoch')\n",
    "plt.legend(['train', 'val'], loc='upper left')\n",
    "plt.show()"
   ]
  },
  {
   "cell_type": "code",
   "execution_count": 49,
   "id": "6ad0ff71",
   "metadata": {},
   "outputs": [
    {
     "data": {
      "image/png": "[encoded data removed]",
      "text/plain": [
       "<Figure size 432x288 with 1 Axes>"
      ]
     },
     "metadata": {
      "needs_background": "light"
     },
     "output_type": "display_data"
    }
   ],
   "source": [
    "plt.plot(history.history['loss'])\n",
    "plt.plot(history.history['val_loss'])\n",
    "plt.title('model loss')\n",
    "plt.ylabel('accuracy')\n",
    "plt.xlabel('epoch')\n",
    "plt.legend(['train', 'val'], loc='upper left')\n",
    "plt.show()"
   ]
  },
  {
   "cell_type": "code",
   "execution_count": 50,
   "id": "efa95688",
   "metadata": {},
   "outputs": [
    {
     "name": "stdout",
     "output_type": "stream",
     "text": [
      "['polisi menangkap pelaku pemukulan anak anggota dpr']\n",
      "['polisi menangkap faisal marasabessy anak ali fanser marasabessy pelaku pemukulan justin frederick korban anak anggota dpr bernama indah kurniawati faisal']\n"
     ]
    }
   ],
   "source": [
    "judul = \"Polisi Menangkap Pelaku Pemukulan Anak Anggota DPR\"\n",
    "content = \"\"\"Polisi telah menangkap Faisal Marasabessy, anak dari Ali Fanser Marasabessy, selaku pelaku pemukulan kepada Justin Frederick. Korban diketahui sebagai anak anggota DPR bernama Indah Kurniawati.\n",
    "Faisal ikut ditampilkan saat Polda Metro Jaya menggelar konferensi pers kasus itu siang ini, Senin (6/6/2022). Faisal Marasabessy tampak telah menggunakan baju tahanan berwarna oranye.\n",
    "Tidak ada komentar yang keluar dari mulut Faisal. Tangannya pun diikat tali ties.\"\"\"\n",
    "judul = cleaning_text(judul)\n",
    "content = cleaning_text(content)\n",
    "\n",
    "judul = tokenization(judul.lower())\n",
    "content = tokenization(content.lower())\n",
    "\n",
    "judul = remove_stopwords(judul)\n",
    "content = remove_stopwords(content)\n",
    "\n",
    "# judul = stemmed_wrapper(judul)\n",
    "# content = stemmed_wrapper(content)\n",
    "\n",
    "judul = \" \".join(judul)\n",
    "content = \" \".join(content)\n",
    "\n",
    "# clean_judul = [\" \".join(judul.split())]\n",
    "# clean_content = [\" \".join(content.split())]\n",
    "clean_judul = [\" \".join(judul.split()[:20])]\n",
    "clean_content = [\" \".join(content.split()[:20])]\n",
    "print(clean_judul)\n",
    "print(clean_content)"
   ]
  },
  {
   "cell_type": "code",
   "execution_count": 51,
   "id": "8990e31a",
   "metadata": {},
   "outputs": [],
   "source": [
    "clean_judul = tokenizer.texts_to_sequences(clean_judul)\n",
    "clean_judul = pad_sequences(clean_judul,maxlen=MAX_LEN)\n",
    "\n",
    "clean_content = tokenizer.texts_to_sequences(clean_content)\n",
    "clean_content = pad_sequences(clean_content,maxlen=MAX_LEN)"
   ]
  },
  {
   "cell_type": "code",
   "execution_count": 52,
   "id": "3e389cc7",
   "metadata": {},
   "outputs": [
    {
     "name": "stdout",
     "output_type": "stream",
     "text": [
      "1/1 [==============================] - 2s 2s/step\n",
      "hasil predict  [[0.93886495 0.06113503]]\n",
      "non-clickbait\n"
     ]
    }
   ],
   "source": [
    "coba_predicted = model.predict([clean_judul, clean_content])\n",
    "print(\"hasil predict \", coba_predicted)\n",
    "if coba_predicted[0][0] < 0.5:\n",
    "    print(\"clickbait\")\n",
    "else:\n",
    "    print(\"non-clickbait\")"
   ]
  },
  {
   "cell_type": "code",
   "execution_count": 53,
   "id": "5505bd18",
   "metadata": {},
   "outputs": [
    {
     "name": "stdout",
     "output_type": "stream",
     "text": [
      "35/35 [==============================] - 126s 4s/step\n"
     ]
    }
   ],
   "source": [
    "predict_test = model.predict([X_test])\n",
    "# [title_test, content_test],y_test]"
   ]
  },
  {
   "cell_type": "code",
   "execution_count": 54,
   "id": "135ba792",
   "metadata": {},
   "outputs": [
    {
     "data": {
      "text/plain": [
       "array([[0.9819257 , 0.01807429],\n",
       "       [0.94968057, 0.05031946],\n",
       "       [0.98176306, 0.01823688],\n",
       "       ...,\n",
       "       [0.00786318, 0.99213684],\n",
       "       [0.00626931, 0.99373066],\n",
       "       [0.00873137, 0.99126863]], dtype=float32)"
      ]
     },
     "execution_count": 54,
     "metadata": {},
     "output_type": "execute_result"
    }
   ],
   "source": [
    "predict_test"
   ]
  },
  {
   "cell_type": "code",
   "execution_count": 55,
   "id": "3c7ff03b",
   "metadata": {},
   "outputs": [],
   "source": [
    "y_pred=np.argmax(predict_test, axis=1)\n",
    "y_testp=np.argmax(ytest, axis=1)"
   ]
  },
  {
   "cell_type": "code",
   "execution_count": 56,
   "id": "19c736cd",
   "metadata": {},
   "outputs": [
    {
     "name": "stdout",
     "output_type": "stream",
     "text": [
      "[[495  53]\n",
      " [ 75 473]]\n"
     ]
    }
   ],
   "source": [
    "from sklearn.metrics import confusion_matrix\n",
    "\n",
    "#Generate the confusion matrix\n",
    "cf_matrix = confusion_matrix(y_testp, y_pred)\n",
    "\n",
    "print(cf_matrix)\n",
    "TN = cf_matrix[0][0]\n",
    "FP = cf_matrix[0][1]\n",
    "FN = cf_matrix[1][0]\n",
    "TP = cf_matrix[1][1]"
   ]
  },
  {
   "cell_type": "code",
   "execution_count": 57,
   "id": "34aabe04",
   "metadata": {},
   "outputs": [
    {
     "name": "stdout",
     "output_type": "stream",
     "text": [
      "accuracy  0.8832116788321168\n",
      "precision  0.8992395437262357\n",
      "recall  0.8631386861313869\n",
      "f1_score  0.8808193668528864\n"
     ]
    }
   ],
   "source": [
    "accuracy = (TN+TP)/(TN+FP+TP+FN)\n",
    "precision = TP/(TP+FP)\n",
    "recall = TP/(TP+FN)\n",
    "f1_score = 2*((precision*recall)/(precision+recall))\n",
    "print(\"accuracy \",accuracy)\n",
    "print(\"precision \",precision)\n",
    "print(\"recall \", recall)\n",
    "print(\"f1_score \",f1_score)"
   ]
  },
  {
   "cell_type": "code",
   "execution_count": 63,
   "id": "69d4d6fc",
   "metadata": {},
   "outputs": [],
   "source": [
    "pd.DataFrame(predict_test).to_csv(\"predict_test.csv\")"
   ]
  },
  {
   "cell_type": "code",
   "execution_count": 64,
   "id": "2bf7befa",
   "metadata": {},
   "outputs": [],
   "source": [
    "pd.DataFrame(ytest).to_csv(\"ytest.csv\")"
   ]
  },
  {
   "cell_type": "code",
   "execution_count": null,
   "id": "2e1a0327",
   "metadata": {},
   "outputs": [],
   "source": []
  }
 ],
 "metadata": {
  "kernelspec": {
   "display_name": "Python 3 (ipykernel)",
   "language": "python",
   "name": "python3"
  },
  "language_info": {
   "codemirror_mode": {
    "name": "ipython",
    "version": 3
   },
   "file_extension": ".py",
   "mimetype": "text/x-python",
   "name": "python",
   "nbconvert_exporter": "python",
   "pygments_lexer": "ipython3",
   "version": "3.10.2"
  }
 },
 "nbformat": 4,
 "nbformat_minor": 5
}
